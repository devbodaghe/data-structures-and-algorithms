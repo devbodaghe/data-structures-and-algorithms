{
 "cells": [
  {
   "cell_type": "code",
   "execution_count": 7,
   "metadata": {},
   "outputs": [],
   "source": [
    "#Decode Ways (Leetcode 91)"
   ]
  },
  {
   "cell_type": "code",
   "execution_count": 6,
   "metadata": {},
   "outputs": [],
   "source": [
    "class Solution:\n",
    "    def numDecodings(self, s: str) -> int:\n",
    "        if s == '0':\n",
    "            return 0\n",
    "        if 1<= int(s) <=9:\n",
    "            return 1\n",
    "        s = list(s)\n",
    "        output = []\n",
    "        result = [[]]\n",
    "        for num in s:\n",
    "            result += [i + [num] for i in result]\n",
    "        del result[0]\n",
    "        print(result)\n",
    "        for i in result:\n",
    "            res=int(\"\".join(map(str,i)))\n",
    "            if 0<res<=26:\n",
    "                output.append(res)\n",
    "        print(output)\n",
    "        output = set(output)\n",
    "        print(output)\n",
    "        l = len(output)\n",
    "        return l-1"
   ]
  },
  {
   "cell_type": "code",
   "execution_count": null,
   "metadata": {},
   "outputs": [],
   "source": []
  }
 ],
 "metadata": {
  "kernelspec": {
   "display_name": "Python 3",
   "language": "python",
   "name": "python3"
  },
  "language_info": {
   "codemirror_mode": {
    "name": "ipython",
    "version": 3
   },
   "file_extension": ".py",
   "mimetype": "text/x-python",
   "name": "python",
   "nbconvert_exporter": "python",
   "pygments_lexer": "ipython3",
   "version": "3.7.3"
  }
 },
 "nbformat": 4,
 "nbformat_minor": 2
}
