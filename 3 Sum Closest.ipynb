{
 "cells": [
  {
   "cell_type": "code",
   "execution_count": 1,
   "metadata": {},
   "outputs": [],
   "source": [
    "# 3 Sum Closest (Leetcode 16)"
   ]
  },
  {
   "cell_type": "code",
   "execution_count": 2,
   "metadata": {},
   "outputs": [],
   "source": [
    "class Solution:\n",
    "    def threeSumClosest(self, nums, target):\n",
    "        nums.sort()\n",
    "        res = sum(nums[:3])\n",
    "        \n",
    "        for i in range(len(nums)-2):\n",
    "            l = i+1\n",
    "            r = len(nums) - 1\n",
    "            while l<r:\n",
    "                newsum = int(nums[i]+nums[l]+nums[r])\n",
    "                if( abs(newsum - target)< abs(res-target)):\n",
    "                    res = newsum\n",
    "                if newsum<target: l+=1\n",
    "                else: r-=1\n",
    "        return res\n",
    "         "
   ]
  },
  {
   "cell_type": "code",
   "execution_count": null,
   "metadata": {},
   "outputs": [],
   "source": []
  }
 ],
 "metadata": {
  "kernelspec": {
   "display_name": "Python 3",
   "language": "python",
   "name": "python3"
  },
  "language_info": {
   "codemirror_mode": {
    "name": "ipython",
    "version": 3
   },
   "file_extension": ".py",
   "mimetype": "text/x-python",
   "name": "python",
   "nbconvert_exporter": "python",
   "pygments_lexer": "ipython3",
   "version": "3.7.3"
  }
 },
 "nbformat": 4,
 "nbformat_minor": 2
}
