{
 "cells": [
  {
   "cell_type": "code",
   "execution_count": 19,
   "metadata": {},
   "outputs": [],
   "source": [
    "#Get Routes 2"
   ]
  },
  {
   "cell_type": "code",
   "execution_count": 21,
   "metadata": {},
   "outputs": [
    {
     "name": "stdout",
     "output_type": "stream",
     "text": [
      "{'LXA', 'JFK', 'SNA'}\n",
      "JFK RKJ\n",
      "[['JFK', 'LXA', 'SNA', 'RKJ']]\n"
     ]
    }
   ],
   "source": [
    "\n",
    "def getRoute2(routes):\n",
    "    all_routes = set(routes)\n",
    "\n",
    "    fros = set([routes[i] for i in range(0, len(routes), 2)])\n",
    "    tos = set([routes[i] for i in range(1, len(routes), 2)])\n",
    "    print(fros)\n",
    "\n",
    "    first = list(all_routes.difference(tos))[0]\n",
    "    last = list(all_routes.difference(fros))[0]\n",
    "\n",
    "    print(first, last)\n",
    "    def buildGraph(routes):\n",
    "        graph = {}\n",
    "\n",
    "        for route in routes:\n",
    "            graph[route] = []\n",
    "\n",
    "        for i in range(0, len(routes), 2):\n",
    "            graph[routes[i]].append(routes[i+1])\n",
    "        return graph\n",
    "\n",
    "\n",
    "    graph = buildGraph(routes)\n",
    "\n",
    "    def dfsToGetPaths(graph, node):\n",
    "        if node == last:\n",
    "            return [[last]]\n",
    "\n",
    "        ans = []\n",
    "\n",
    "        for elem in graph[node]:\n",
    "            for path in dfsToGetPaths(graph, elem):\n",
    "                ans.append([node]+path)\n",
    "\n",
    "        return ans\n",
    "\n",
    "    return dfsToGetPaths(graph, first)\n",
    "\n",
    "\n",
    "print(getRoute2(['JFK', 'LXA', 'SNA', 'RKJ', 'LXA', 'SNA']))\n"
   ]
  },
  {
   "cell_type": "code",
   "execution_count": null,
   "metadata": {},
   "outputs": [],
   "source": []
  }
 ],
 "metadata": {
  "kernelspec": {
   "display_name": "Python 3",
   "language": "python",
   "name": "python3"
  },
  "language_info": {
   "codemirror_mode": {
    "name": "ipython",
    "version": 3
   },
   "file_extension": ".py",
   "mimetype": "text/x-python",
   "name": "python",
   "nbconvert_exporter": "python",
   "pygments_lexer": "ipython3",
   "version": "3.7.3"
  }
 },
 "nbformat": 4,
 "nbformat_minor": 2
}
