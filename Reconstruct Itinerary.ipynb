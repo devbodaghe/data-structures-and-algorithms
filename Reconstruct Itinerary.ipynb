{
 "cells": [
  {
   "cell_type": "code",
   "execution_count": 13,
   "metadata": {},
   "outputs": [],
   "source": [
    "#Reconstruct Itinerary"
   ]
  },
  {
   "cell_type": "code",
   "execution_count": 14,
   "metadata": {},
   "outputs": [],
   "source": [
    "class Solution:\n",
    "    def findItinerary(self, tickets):\n",
    "        graph = {}\n",
    "        for src, dst in tickets:\n",
    "            if src in graph:\n",
    "                graph[src].append(dst)\n",
    "            else:\n",
    "                graph[src] = [dst]\n",
    "\n",
    "        for src in graph.keys():\n",
    "            graph[src].sort(reverse=True)\n",
    "           \n",
    "        stack = []\n",
    "        res = []\n",
    "        stack.append(\"JFK\")\n",
    "      \n",
    "        while len(stack) > 0:\n",
    "            elem = stack[-1]\n",
    "            if elem in graph and len(graph[elem]) > 0: \n",
    "               \n",
    "                stack.append(graph[elem].pop())\n",
    "            else:\n",
    "                res.append(stack.pop())\n",
    "               \n",
    "        return res[::-1]"
   ]
  },
  {
   "cell_type": "code",
   "execution_count": null,
   "metadata": {},
   "outputs": [],
   "source": []
  }
 ],
 "metadata": {
  "kernelspec": {
   "display_name": "Python 3",
   "language": "python",
   "name": "python3"
  },
  "language_info": {
   "codemirror_mode": {
    "name": "ipython",
    "version": 3
   },
   "file_extension": ".py",
   "mimetype": "text/x-python",
   "name": "python",
   "nbconvert_exporter": "python",
   "pygments_lexer": "ipython3",
   "version": "3.7.3"
  }
 },
 "nbformat": 4,
 "nbformat_minor": 2
}
