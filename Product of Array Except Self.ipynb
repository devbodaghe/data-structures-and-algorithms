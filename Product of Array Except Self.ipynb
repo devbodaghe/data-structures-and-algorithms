{
 "cells": [
  {
   "cell_type": "code",
   "execution_count": 1,
   "metadata": {},
   "outputs": [],
   "source": [
    "#238. Product of Array Except Self"
   ]
  },
  {
   "cell_type": "code",
   "execution_count": 3,
   "metadata": {},
   "outputs": [],
   "source": [
    "class Solution:\n",
    "    def productExceptSelf(self, nums):\n",
    "        \n",
    "        output = [1]*len(nums)\n",
    "        prod = 1\n",
    "        \n",
    "        #left traversal and multiplication\n",
    "        for i in range(len(nums)):\n",
    "            output[i] = output[i]*prod\n",
    "            prod = prod*nums[i]\n",
    "            \n",
    "        prod = 1\n",
    "        #right traversal and multiplication\n",
    "        for i in range(len(nums)-1,-1,-1):\n",
    "            output[i] = output[i]*prod\n",
    "            prod = prod* nums[i]\n",
    "            \n",
    "        return output\n",
    "        "
   ]
  },
  {
   "cell_type": "code",
   "execution_count": null,
   "metadata": {},
   "outputs": [],
   "source": []
  }
 ],
 "metadata": {
  "kernelspec": {
   "display_name": "Python 3",
   "language": "python",
   "name": "python3"
  },
  "language_info": {
   "codemirror_mode": {
    "name": "ipython",
    "version": 3
   },
   "file_extension": ".py",
   "mimetype": "text/x-python",
   "name": "python",
   "nbconvert_exporter": "python",
   "pygments_lexer": "ipython3",
   "version": "3.7.3"
  }
 },
 "nbformat": 4,
 "nbformat_minor": 2
}
