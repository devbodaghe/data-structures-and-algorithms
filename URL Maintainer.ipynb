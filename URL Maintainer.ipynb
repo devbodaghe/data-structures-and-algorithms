{
 "cells": [
  {
   "cell_type": "code",
   "execution_count": 15,
   "metadata": {},
   "outputs": [],
   "source": [
    "#LRU Cache - URL Maintainer"
   ]
  },
  {
   "cell_type": "code",
   "execution_count": 16,
   "metadata": {},
   "outputs": [],
   "source": [
    "class Node:\n",
    "    def __init__(self,url):\n",
    "        self.url=url\n",
    "        self.prev=self.next=None\n",
    "class DLLNode:\n",
    "    def __init__(self):\n",
    "        self.head=Node(None)\n",
    "        self.tail=Node(None)\n",
    "        self.head.next=self.tail\n",
    "        self.tail.prev=self.head\n",
    "        self.head.prev=self.tail.next=None\n",
    "    def remove(self,node):\n",
    "        #removes a node from a LL\n",
    "        node.next.prev=node.prev\n",
    "        node.prev.next=node.next\n",
    "        node.next=node.prev=None\n",
    "        return node\n",
    "        pass\n",
    "    def moveTohead(self,node):\n",
    "        node=self.remove(node)\n",
    "        self.head.next.prev=node\n",
    "        node.next=self.head.next\n",
    "        node.prev=self.head\n",
    "        self.head.next=node\n",
    "        #moves node to head of Ll\n",
    "    def removeTail(self):\n",
    "        node=self.tail.prev\n",
    "        node=self.remove(node)\n",
    "        del node\n",
    "        #removes the tail of the LL\n",
    "    def print(self):\n",
    "        while self.head.next:\n",
    "            print (self.head.next.url)\n",
    "            self.head.next=self.head.next.next\n",
    "        #print data in LL\n",
    "\n",
    "class urlMaintainer:\n",
    "    def __init__(self,capacity):\n",
    "        self.capacity=capacity\n",
    "        self.cache={}  #key-> URL  value->Node\n",
    "        self.data=DLLNode() #value->URL next prev\n",
    "        self.size=0\n",
    "        pass\n",
    "    \n",
    "    def get(self,url):\n",
    "        if url not in self.cache:\n",
    "            return -1\n",
    "        node=self.cache[url]\n",
    "        self.data.moveTohead(node)\n",
    "        return node.url\n",
    "    def put(self,url):\n",
    "        if url in self.cache:\n",
    "            node=self.cache[url]\n",
    "            self.data.moveTohead(node)\n",
    "        else:\n",
    "            node=Node(url)\n",
    "            self.cache[url]=node\n",
    "            self.data.moveTohead()\n",
    "            self.size+=1\n",
    "            if self.size>=self.capacity:\n",
    "                self.data.removeTail()\n",
    "                self.size-=1\n",
    "                "
   ]
  },
  {
   "cell_type": "code",
   "execution_count": null,
   "metadata": {},
   "outputs": [],
   "source": []
  }
 ],
 "metadata": {
  "kernelspec": {
   "display_name": "Python 3",
   "language": "python",
   "name": "python3"
  },
  "language_info": {
   "codemirror_mode": {
    "name": "ipython",
    "version": 3
   },
   "file_extension": ".py",
   "mimetype": "text/x-python",
   "name": "python",
   "nbconvert_exporter": "python",
   "pygments_lexer": "ipython3",
   "version": "3.7.3"
  }
 },
 "nbformat": 4,
 "nbformat_minor": 2
}
