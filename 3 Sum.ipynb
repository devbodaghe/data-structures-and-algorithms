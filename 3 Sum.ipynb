{
 "cells": [
  {
   "cell_type": "code",
   "execution_count": 18,
   "metadata": {},
   "outputs": [],
   "source": [
    "#3 Sum (Leetcode 15)"
   ]
  },
  {
   "cell_type": "code",
   "execution_count": 17,
   "metadata": {},
   "outputs": [],
   "source": [
    "class Solution:\n",
    "        def threeSum(self, nums):\n",
    "            res = []\n",
    "            nums.sort()\n",
    "            for i in range(len(nums)-2):\n",
    "                if i > 0 and nums[i] == nums[i-1]:\n",
    "                    continue\n",
    "                l, r = i+1, len(nums)-1\n",
    "                while l < r:\n",
    "                    s = nums[i] + nums[l] + nums[r]\n",
    "                    if s < 0:\n",
    "                        l +=1 \n",
    "                    elif s > 0:\n",
    "                        r -= 1\n",
    "                    else:\n",
    "                        res.append((nums[i], nums[l], nums[r]))\n",
    "                        while l < r and nums[l] == nums[l+1]:\n",
    "                            l += 1\n",
    "                        while l < r and nums[r] == nums[r-1]:\n",
    "                            r -= 1\n",
    "                        l += 1; r -= 1\n",
    "            return res"
   ]
  },
  {
   "cell_type": "code",
   "execution_count": null,
   "metadata": {},
   "outputs": [],
   "source": []
  }
 ],
 "metadata": {
  "kernelspec": {
   "display_name": "Python 3",
   "language": "python",
   "name": "python3"
  },
  "language_info": {
   "codemirror_mode": {
    "name": "ipython",
    "version": 3
   },
   "file_extension": ".py",
   "mimetype": "text/x-python",
   "name": "python",
   "nbconvert_exporter": "python",
   "pygments_lexer": "ipython3",
   "version": "3.7.3"
  }
 },
 "nbformat": 4,
 "nbformat_minor": 2
}
