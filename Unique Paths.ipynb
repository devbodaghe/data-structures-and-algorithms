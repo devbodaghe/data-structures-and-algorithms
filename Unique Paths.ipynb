{
 "cells": [
  {
   "cell_type": "code",
   "execution_count": 3,
   "metadata": {},
   "outputs": [],
   "source": [
    "#Unique Paths (Leetcode 62)"
   ]
  },
  {
   "cell_type": "code",
   "execution_count": 2,
   "metadata": {},
   "outputs": [],
   "source": [
    "class Solution:\n",
    "    def uniquePaths(self, m: int, n: int) -> int:\n",
    "        matrix = [[0 for i in range(n)] for j in range(m)]\n",
    "        \n",
    "        for i in range(m):\n",
    "            matrix[i][0] = 1\n",
    "        \n",
    "        for i in range(n):\n",
    "            matrix[0][i] = 1\n",
    "            \n",
    "        for i in range(1, m):\n",
    "            for j in range(1,n):\n",
    "                matrix[i][j] = matrix[i][j-1] + matrix[i-1][j]\n",
    "                \n",
    "        return matrix[-1][-1]"
   ]
  },
  {
   "cell_type": "code",
   "execution_count": null,
   "metadata": {},
   "outputs": [],
   "source": []
  }
 ],
 "metadata": {
  "kernelspec": {
   "display_name": "Python 3",
   "language": "python",
   "name": "python3"
  },
  "language_info": {
   "codemirror_mode": {
    "name": "ipython",
    "version": 3
   },
   "file_extension": ".py",
   "mimetype": "text/x-python",
   "name": "python",
   "nbconvert_exporter": "python",
   "pygments_lexer": "ipython3",
   "version": "3.7.3"
  }
 },
 "nbformat": 4,
 "nbformat_minor": 2
}
