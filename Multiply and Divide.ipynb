{
 "cells": [
  {
   "cell_type": "code",
   "execution_count": 17,
   "metadata": {},
   "outputs": [],
   "source": [
    "#Multiply and Divide"
   ]
  },
  {
   "cell_type": "code",
   "execution_count": 18,
   "metadata": {},
   "outputs": [],
   "source": [
    "from collections import deque\n",
    "def num_steps(n):\n",
    "  # initialize queue with 1\n",
    "  queue = deque([1])\n",
    "  no_of_steps = 0\n",
    "\n",
    "  while(queue):\n",
    "    no_of_elements_to_remove = len(queue)\n",
    "\n",
    "    no_of_steps += 1\n",
    "\n",
    "    for i in range(no_of_elements_to_remove):\n",
    "      cur_number = queue.popleft()\n",
    "\n",
    "      muliply_by_2 = int(cur_number * 2) \n",
    "      divide_by_3 = int(cur_number / 3)\n",
    "\n",
    "      if(muliply_by_2 == n or divide_by_3 == n): return no_of_steps\n",
    "\n",
    "      # append multiplication and division results to queue\n",
    "      queue.append(muliply_by_2)\n",
    "      if(divide_by_3 > 0): queue.append(divide_by_3)"
   ]
  },
  {
   "cell_type": "code",
   "execution_count": null,
   "metadata": {},
   "outputs": [],
   "source": []
  }
 ],
 "metadata": {
  "kernelspec": {
   "display_name": "Python 3",
   "language": "python",
   "name": "python3"
  },
  "language_info": {
   "codemirror_mode": {
    "name": "ipython",
    "version": 3
   },
   "file_extension": ".py",
   "mimetype": "text/x-python",
   "name": "python",
   "nbconvert_exporter": "python",
   "pygments_lexer": "ipython3",
   "version": "3.7.3"
  }
 },
 "nbformat": 4,
 "nbformat_minor": 2
}
