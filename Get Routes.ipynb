{
 "cells": [
  {
   "cell_type": "code",
   "execution_count": 10,
   "metadata": {},
   "outputs": [],
   "source": [
    "#Get Routes"
   ]
  },
  {
   "cell_type": "code",
   "execution_count": 12,
   "metadata": {},
   "outputs": [
    {
     "name": "stdout",
     "output_type": "stream",
     "text": [
      "{'A': ['B', 'C', 'D'], 'B': ['A', 'C', 'D'], 'C': ['A', 'B'], 'D': ['A', 'B']}\n",
      "[['C', 'A', 'B', 'D'], ['C', 'A', 'D'], ['C', 'B', 'A', 'D'], ['C', 'B', 'D']]\n"
     ]
    }
   ],
   "source": [
    "def getRoute(routes, first, last):\n",
    "    all_routes = set(routes)\n",
    "\n",
    "    fros = set([routes[i] for i in range(0, len(routes), 2)])\n",
    "    tos = set([routes[i] for i in range(1, len(routes), 2)])\n",
    "\n",
    "\n",
    "    #first = list(all_routes.difference(tos))[0]\n",
    "   # last = list(all_routes.difference(fros))[0]\n",
    "\n",
    "    #print(first, last)\n",
    "    def buildGraph(routes):\n",
    "        graph = {}\n",
    "\n",
    "        for route in routes:\n",
    "            graph[route] = []\n",
    "\n",
    "        \n",
    "        for i in range(0, len(routes), 2):\n",
    "            graph[routes[i]].append(routes[i+1])\n",
    "            graph[routes[i+1]].append(routes[i])\n",
    "        return graph\n",
    "\n",
    "\n",
    "    graph = buildGraph(routes)\n",
    "    print(graph)\n",
    "    visited = set()\n",
    "    \n",
    "    def dfsToGetPaths(graph, node):\n",
    "        if node == last:\n",
    "            return [[last]]\n",
    "        if node not in visited:\n",
    "            ans = []\n",
    "            visited.add(node)\n",
    "            for elem in graph[node]:\n",
    "                paths = dfsToGetPaths(graph, elem)\n",
    "                if paths:\n",
    "                    for path in paths:\n",
    "                        ans.append([node]+path)\n",
    "            visited.remove(node)\n",
    "\n",
    "            return ans\n",
    "        #print(all_routes)\n",
    "    return dfsToGetPaths(graph, first)\n",
    "\n",
    "\n",
    "#print(getRoute(['JFK', 'LXA', 'SNA', 'RKJ', 'LXA', 'SNA','LXA','RKJ'], 'LXA', 'RKJ'))\n",
    "print(getRoute(['A', 'B','A', 'C', 'A', 'D', 'B', 'C', 'B', 'D'], 'C', 'D'))\n"
   ]
  },
  {
   "cell_type": "code",
   "execution_count": null,
   "metadata": {},
   "outputs": [],
   "source": []
  }
 ],
 "metadata": {
  "kernelspec": {
   "display_name": "Python 3",
   "language": "python",
   "name": "python3"
  },
  "language_info": {
   "codemirror_mode": {
    "name": "ipython",
    "version": 3
   },
   "file_extension": ".py",
   "mimetype": "text/x-python",
   "name": "python",
   "nbconvert_exporter": "python",
   "pygments_lexer": "ipython3",
   "version": "3.7.3"
  }
 },
 "nbformat": 4,
 "nbformat_minor": 2
}
