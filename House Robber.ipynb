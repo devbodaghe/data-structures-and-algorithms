{
 "cells": [
  {
   "cell_type": "code",
   "execution_count": 1,
   "metadata": {},
   "outputs": [],
   "source": [
    "#House Robber (Leetcode 198)"
   ]
  },
  {
   "cell_type": "code",
   "execution_count": 3,
   "metadata": {},
   "outputs": [],
   "source": [
    "class Solution:\n",
    "    def rob(self, nums):\n",
    "        if not nums:\n",
    "            return 0\n",
    "        if len(nums) <= 2:\n",
    "            return max(nums)\n",
    "        dp = [0] * len(nums)\n",
    "        \n",
    "        \n",
    "        for i in range(len(nums)):\n",
    "            if i == 0:\n",
    "                dp[0] = nums[0]\n",
    "            elif i ==1:\n",
    "                dp[1] = max(nums[0], nums[1])\n",
    "            else:\n",
    "                dp[i] = max(nums[i]+ dp[i-2], dp[i-1])\n",
    "        return dp[-1]\n",
    "            \n",
    "        "
   ]
  },
  {
   "cell_type": "code",
   "execution_count": null,
   "metadata": {},
   "outputs": [],
   "source": []
  }
 ],
 "metadata": {
  "kernelspec": {
   "display_name": "Python 3",
   "language": "python",
   "name": "python3"
  },
  "language_info": {
   "codemirror_mode": {
    "name": "ipython",
    "version": 3
   },
   "file_extension": ".py",
   "mimetype": "text/x-python",
   "name": "python",
   "nbconvert_exporter": "python",
   "pygments_lexer": "ipython3",
   "version": "3.7.3"
  }
 },
 "nbformat": 4,
 "nbformat_minor": 2
}
